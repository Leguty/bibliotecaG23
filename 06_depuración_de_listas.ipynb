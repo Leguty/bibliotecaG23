{
  "metadata": {
    "language_info": {
      "codemirror_mode": {
        "name": "python",
        "version": 3
      },
      "file_extension": ".py",
      "mimetype": "text/x-python",
      "name": "python",
      "nbconvert_exporter": "python",
      "pygments_lexer": "ipython3",
      "version": "3.8"
    },
    "kernelspec": {
      "name": "python",
      "display_name": "Pyolite",
      "language": "python"
    },
    "colab": {
      "provenance": [],
      "include_colab_link": true
    }
  },
  "nbformat_minor": 0,
  "nbformat": 4,
  "cells": [
    {
      "cell_type": "markdown",
      "metadata": {
        "id": "view-in-github",
        "colab_type": "text"
      },
      "source": [
        "<a href=\"https://colab.research.google.com/github/Leguty/bibliotecaG23/blob/main/06_depuraci%C3%B3n_de_listas.ipynb\" target=\"_parent\"><img src=\"https://colab.research.google.com/assets/colab-badge.svg\" alt=\"Open In Colab\"/></a>"
      ]
    },
    {
      "cell_type": "code",
      "source": [
        "#En cualquier modelo, siempre es útil identificar valores duplicados, ya sea para encontrar una tendendcia o para eliminarlos y evitar ruido en el análisis que se esté dando."
      ],
      "metadata": {
        "trusted": true,
        "id": "Ttm8qaTkSiLK"
      },
      "execution_count": null,
      "outputs": []
    },
    {
      "cell_type": "code",
      "source": [
        "#Así es importante tener en cuenta  que una lista de valores de cualquier tipo puede ser fácilmente 'depurada' para su tratamiento, ejemplo:"
      ],
      "metadata": {
        "trusted": true,
        "id": "aC2UYk0jSiLR"
      },
      "execution_count": null,
      "outputs": []
    },
    {
      "cell_type": "code",
      "source": [
        "# Declaramos nuestra lista\n",
        "lista = [10, 20, 10, 30, 40, 20]\n",
        "print(lista)"
      ],
      "metadata": {
        "trusted": true,
        "id": "jSEx3X_XSiLS",
        "outputId": "199d4f31-5145-4160-e30d-75cf8ed250d3"
      },
      "execution_count": null,
      "outputs": [
        {
          "name": "stdout",
          "text": "[10, 20, 10, 30, 40, 20]\n",
          "output_type": "stream"
        }
      ]
    },
    {
      "cell_type": "code",
      "source": [
        "# usamos el método list dict.fromkeys, para eliminar los valores que se presentan más de una vez\n",
        "lista_depurada = list(dict.fromkeys(lista))\n",
        "print(lista_depurada)"
      ],
      "metadata": {
        "trusted": true,
        "id": "m5zHF8CWSiLT",
        "outputId": "598262d1-6317-409f-bece-0f5459c8d817"
      },
      "execution_count": null,
      "outputs": [
        {
          "name": "stdout",
          "text": "[10, 20, 30, 40]\n",
          "output_type": "stream"
        }
      ]
    },
    {
      "cell_type": "code",
      "source": [
        "# Ahora inténtelo ud mismo.\n",
        "# Suponga que tiene la siguiente lista y quiere depurar para eliminar los valores que aparecen más de una vez.\n",
        "# [\"peras\", \"bananas\", \"manzanas\", \"bananas\", \"uvas\", \"manzanas\"]\n",
        "\n",
        "#Debe obtener el siguiente resultado:\n",
        "# ['peras', 'bananas', 'manzanas', 'uvas']\n",
        "\n"
      ],
      "metadata": {
        "trusted": true,
        "id": "rT7E6VwgSiLU"
      },
      "execution_count": null,
      "outputs": []
    },
    {
      "cell_type": "code",
      "source": [
        "lista1=[\"peras\", \"bananas\", \"manzanas\", \"bananas\", \"uvas\", \"manzanas\"]\n",
        "lista_depurada1=list(dict.fromkeys(lista1))\n",
        "print(lista_depurada1)"
      ],
      "metadata": {
        "id": "oveOS8mgSiLU",
        "outputId": "9d71ebe3-84b8-4ddb-bba5-b5f3034cc7f6",
        "colab": {
          "base_uri": "https://localhost:8080/"
        }
      },
      "execution_count": 1,
      "outputs": [
        {
          "output_type": "stream",
          "name": "stdout",
          "text": [
            "['peras', 'bananas', 'manzanas', 'uvas']\n"
          ]
        }
      ]
    }
  ]
}