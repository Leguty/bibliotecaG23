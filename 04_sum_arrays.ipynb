{
  "metadata": {
    "language_info": {
      "codemirror_mode": {
        "name": "python",
        "version": 3
      },
      "file_extension": ".py",
      "mimetype": "text/x-python",
      "name": "python",
      "nbconvert_exporter": "python",
      "pygments_lexer": "ipython3",
      "version": "3.8"
    },
    "kernelspec": {
      "name": "python",
      "display_name": "Pyolite",
      "language": "python"
    },
    "colab": {
      "provenance": [],
      "include_colab_link": true
    }
  },
  "nbformat_minor": 0,
  "nbformat": 4,
  "cells": [
    {
      "cell_type": "markdown",
      "metadata": {
        "id": "view-in-github",
        "colab_type": "text"
      },
      "source": [
        "<a href=\"https://colab.research.google.com/github/Leguty/bibliotecaG23/blob/main/04_sum_arrays.ipynb\" target=\"_parent\"><img src=\"https://colab.research.google.com/assets/colab-badge.svg\" alt=\"Open In Colab\"/></a>"
      ]
    },
    {
      "cell_type": "code",
      "source": [
        "# Supongamos que queremos obtener la suma de los elemnentos numéricos de dos arreglos:\n"
      ],
      "metadata": {
        "trusted": true,
        "id": "1iIqViAQV2fv"
      },
      "execution_count": null,
      "outputs": []
    },
    {
      "cell_type": "code",
      "source": [
        "#Por ejemplo si queremos tener la suma de un arreglo como este:\n",
        "arreglo1 = [1,2,3]"
      ],
      "metadata": {
        "trusted": true,
        "id": "1xKi2FRtV2fx"
      },
      "execution_count": null,
      "outputs": []
    },
    {
      "cell_type": "code",
      "source": [
        "#Sería simplemente sumar los tres elementos para obtener un valor igual a 6, sin emabrago, en un arreglo donde seguramente tenedremos muchos más elmentos, necesitaremos la ayuda del loop for así:"
      ],
      "metadata": {
        "trusted": true,
        "id": "j_mmoHDBV2fx"
      },
      "execution_count": null,
      "outputs": []
    },
    {
      "cell_type": "code",
      "source": [
        "#Se inicializa la suma:\n",
        "s=0 \n",
        "#Creamos el for para iterar con la suma de cada término\n",
        "for suma1 in arreglo1:\n",
        "    s=suma1+s\n",
        "#Mostramos el resultado obtenido\n",
        "print(s)\n"
      ],
      "metadata": {
        "trusted": true,
        "id": "2JnQiVjoV2fy",
        "outputId": "8efd70c5-65cd-4b0c-a965-1d744e0949ab"
      },
      "execution_count": null,
      "outputs": [
        {
          "name": "stdout",
          "text": "6\n",
          "output_type": "stream"
        }
      ]
    },
    {
      "cell_type": "code",
      "source": [
        "#Ahora inténtelo ud mismo.\n",
        "#Suponga que tiene los siguietnes dos arreglos: \n",
        "# [2,4,6,8,10] y [12,13,14,15]\n",
        "#Queremos obtener la suma de los elementos de estos dos arreglos.\n",
        "#Debe obtener el siguiente resultado\n",
        "# 84\n",
        "# Adelánte, inténtelo."
      ],
      "metadata": {
        "trusted": true,
        "id": "KiHzfC53V2fz"
      },
      "execution_count": null,
      "outputs": []
    },
    {
      "cell_type": "code",
      "source": [
        "arreglo2=[2,4,6,8,10]\n",
        "arreglo3=[12,13,14,15]\n",
        "\n",
        "s=0 \n",
        "\n",
        "for suma in arreglo2+arreglo3:\n",
        "    s=suma+s\n",
        "#Mostramos el resultado obtenido\n",
        "print(s)"
      ],
      "metadata": {
        "id": "NPe7fDHUV2fz",
        "outputId": "41c8f5e1-47cc-410d-d2d0-798ea22af371",
        "colab": {
          "base_uri": "https://localhost:8080/"
        }
      },
      "execution_count": 2,
      "outputs": [
        {
          "output_type": "stream",
          "name": "stdout",
          "text": [
            "84\n"
          ]
        }
      ]
    }
  ]
}