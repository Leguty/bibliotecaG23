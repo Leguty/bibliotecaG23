{
  "metadata": {
    "language_info": {
      "codemirror_mode": {
        "name": "python",
        "version": 3
      },
      "file_extension": ".py",
      "mimetype": "text/x-python",
      "name": "python",
      "nbconvert_exporter": "python",
      "pygments_lexer": "ipython3",
      "version": "3.8"
    },
    "kernelspec": {
      "name": "python",
      "display_name": "Pyolite",
      "language": "python"
    },
    "colab": {
      "provenance": [],
      "include_colab_link": true
    }
  },
  "nbformat_minor": 0,
  "nbformat": 4,
  "cells": [
    {
      "cell_type": "markdown",
      "metadata": {
        "id": "view-in-github",
        "colab_type": "text"
      },
      "source": [
        "<a href=\"https://colab.research.google.com/github/Leguty/bibliotecaG23/blob/main/05_para_modelos_complejos.ipynb\" target=\"_parent\"><img src=\"https://colab.research.google.com/assets/colab-badge.svg\" alt=\"Open In Colab\"/></a>"
      ]
    },
    {
      "cell_type": "code",
      "source": [
        "#Siempre tendremos que realizar cálculos complejos que pueden escribirse en python de maneras sencillas y obtener resultados precisos."
      ],
      "metadata": {
        "trusted": true,
        "id": "SClrZSQacFm7"
      },
      "execution_count": null,
      "outputs": []
    },
    {
      "cell_type": "code",
      "source": [
        "# Así por ejemplo, Calcular cuántos años necesitas para obtener una determinada cantidad partiendo de una cantidad inicial y una tasa de interés determinada. No tiene que ser una tarea complicada. \n",
        "#No lo olvides: usamos interés compuesto: obtienes interés sobre tu interés.\n",
        "#Veamos:"
      ],
      "metadata": {
        "trusted": true,
        "id": "_IenPBWNcFm-"
      },
      "execution_count": null,
      "outputs": []
    },
    {
      "cell_type": "code",
      "source": [
        "#Si tenemos una catidad de 1000 y queremos llegar a 1020 (objetivo), con un interés del 0.01 (1%) diario, tendremos que sumarle a nuestra cantidad inicial ese porcentaje, convirtiéndose en nuestra nueva cantidad, a la que le sumaremos nuevamente ese porcentaje hasta obtener el valor objetivo."
      ],
      "metadata": {
        "trusted": true,
        "id": "k9qOpUQpcFm_"
      },
      "execution_count": null,
      "outputs": []
    },
    {
      "cell_type": "code",
      "source": [
        "# Declaramos nuestras variables:\n",
        "cantidad = 1000\n",
        "interes = 0.01\n",
        "dia = 0\n",
        "# Realizamos el primer cálculo (día 1):\n",
        "cantidad = cantidad + (cantidad*0.01)\n",
        "dia = dia + 1\n",
        "# Visualizamos nuestra nueva cantidad:\n",
        "print(\"Cantidad: $\",cantidad)\n",
        "print(\"Día: #\", dia)"
      ],
      "metadata": {
        "trusted": true,
        "id": "msuheavmcFm_",
        "outputId": "2c4a5182-2972-4850-fb10-186a6ead9969"
      },
      "execution_count": null,
      "outputs": [
        {
          "name": "stdout",
          "text": "Cantidad: $ 1010.0\nDía: # 1\n",
          "output_type": "stream"
        }
      ]
    },
    {
      "cell_type": "code",
      "source": [
        "# Repetimos:\n",
        "cantidad = cantidad + (cantidad*0.01)\n",
        "dia = dia + 1\n",
        "# Visualizamos nuestra nueva cantidad:\n",
        "print(\"Cantidad: $\",cantidad)\n",
        "print(\"Día: #\", dia)"
      ],
      "metadata": {
        "trusted": true,
        "id": "vjhxapEPcFnB",
        "outputId": "ac8556ca-b698-47e5-b705-cc8b32060412"
      },
      "execution_count": null,
      "outputs": [
        {
          "name": "stdout",
          "text": "Cantidad: $ 1020.1\nDía: # 2\n",
          "output_type": "stream"
        }
      ]
    },
    {
      "cell_type": "code",
      "source": [
        "# Podemos ver que obtenemos nuestro objetivo en dos (2 días).\n",
        "# Sin embargo, si fuera necesario duplicar la cantidad, sería necesario repetir el cáculo muchas veces de forma incómoda e innecesaria."
      ],
      "metadata": {
        "trusted": true,
        "id": "Ne4tWKhycFnB"
      },
      "execution_count": null,
      "outputs": []
    },
    {
      "cell_type": "code",
      "source": [
        "# En este caso el ciclo while puede ser de gran utilidad, ya que se puede condicionar para obtener lo buscado. Ejemplo:"
      ],
      "metadata": {
        "trusted": true,
        "id": "xuiHLAVKcFnC"
      },
      "execution_count": null,
      "outputs": []
    },
    {
      "cell_type": "code",
      "source": [
        "a = 0\n",
        "b = 10\n",
        "c = 0\n",
        "#Queremos saber cuantas iteraciones toma sumarle 0.1 a la variable 'a' hasta llegar a 10, una vez se cumpla la condición nos mostrará la cantidad de veces que realizó la operación:\n",
        "while a < b:\n",
        "    a = a + 0.1\n",
        "    c = c+1\n",
        "print(c)"
      ],
      "metadata": {
        "trusted": true,
        "id": "gPy0dEYycFnC",
        "outputId": "f55ddf74-554b-4a94-afcc-8d76d02de9ff"
      },
      "execution_count": null,
      "outputs": [
        {
          "name": "stdout",
          "text": "101\n",
          "output_type": "stream"
        }
      ]
    },
    {
      "cell_type": "code",
      "source": [
        "# Ahora inténtelo ud mismo, suponga que desea saber cuantos días le toma a la cantidad del primer ejemplo en triplicarse.\n",
        "# Debe obtener 111 días\n",
        "\n"
      ],
      "metadata": {
        "trusted": true,
        "id": "GchF99RScFnD"
      },
      "execution_count": null,
      "outputs": []
    },
    {
      "cell_type": "code",
      "source": [
        "a=1000\n",
        "b=3000\n",
        "c=0\n",
        "\n",
        "while a<b:\n",
        "      a= a+(a*0.01)\n",
        "      c=c+1\n",
        "\n",
        "print(c)"
      ],
      "metadata": {
        "id": "oQpZuGhRcFnE",
        "outputId": "fd98fd12-2cd9-448d-d550-4228a25982ee",
        "colab": {
          "base_uri": "https://localhost:8080/"
        }
      },
      "execution_count": 1,
      "outputs": [
        {
          "output_type": "stream",
          "name": "stdout",
          "text": [
            "111\n"
          ]
        }
      ]
    }
  ]
}