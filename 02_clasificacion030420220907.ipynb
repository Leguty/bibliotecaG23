{
  "metadata": {
    "language_info": {
      "codemirror_mode": {
        "name": "python",
        "version": 3
      },
      "file_extension": ".py",
      "mimetype": "text/x-python",
      "name": "python",
      "nbconvert_exporter": "python",
      "pygments_lexer": "ipython3",
      "version": "3.8"
    },
    "kernelspec": {
      "name": "python",
      "display_name": "Pyolite",
      "language": "python"
    },
    "colab": {
      "provenance": [],
      "include_colab_link": true
    }
  },
  "nbformat_minor": 0,
  "nbformat": 4,
  "cells": [
    {
      "cell_type": "markdown",
      "metadata": {
        "id": "view-in-github",
        "colab_type": "text"
      },
      "source": [
        "<a href=\"https://colab.research.google.com/github/Leguty/bibliotecaG23/blob/main/02_clasificacion030420220907.ipynb\" target=\"_parent\"><img src=\"https://colab.research.google.com/assets/colab-badge.svg\" alt=\"Open In Colab\"/></a>"
      ]
    },
    {
      "cell_type": "code",
      "source": [
        "#CLASIFICACIÓN\n",
        "#En aprendizaje automático y estadística, la clasificación estadística es el problema de identificar a cuál de un subconjunto de categorías pertenece una nueva observación, sobre la base de un conjunto de datos de formación que contiene observaciones cuya categoría de miembros es conocida. \n",
        "#Un ejemplo sería asignar a un correo electrónico dado la clasificación de \"spam\" o \"no spam\".\n"
      ],
      "metadata": {
        "trusted": true,
        "id": "TwonUjISd3rs"
      },
      "execution_count": null,
      "outputs": []
    },
    {
      "cell_type": "code",
      "source": [
        "#Asumamos un dataset donde podemos ver el asunto de algunos correos y en los que queremos tratar de identificar si es un posible SPAM\n",
        "dicc1={\"correo1\":\"Hola amigo\",\"correo2\":\"ganaste la loteria\",\"correo3\":\"informe anual\",\"correo4\":\"reclamo de herencia\"}\n",
        "#Podemos hacer un recorrido por nuestro conjunto de datos usando for:\n",
        "for x in dicc1:\n",
        "    #Condicionar algunas palabras clave para identificar en cuales correos puede ser catalogado como SPAM, por ejemplo las palabra 'loteria' o 'herencia'\n",
        "    #Para ello hay distintas funciones al alcance de python, en este caso usaremos el método \"count\" que nos ayuda a identificar una cadena específica de caractéres:\n",
        "    if dicc1[x].count(\"loteria\")==True or dicc1[x].count(\"herencia\")==True:\n",
        "        print(\"SPAM\", x)\n",
        "#print (dicc1.count(\"loteria\"))"
      ],
      "metadata": {
        "trusted": true,
        "id": "VwaM6wCsd3rx",
        "outputId": "6aaadfe6-7e7c-47b6-dfb7-ba3bc2dc554b"
      },
      "execution_count": null,
      "outputs": [
        {
          "name": "stdout",
          "text": "SPAM correo2\nSPAM correo4\n",
          "output_type": "stream"
        }
      ]
    },
    {
      "cell_type": "code",
      "source": [
        "#Cómo podemos ver, en estos ejemplos es relativamente simple realizar este tipo de clasificaciones. En ejemplo de datasets más grandes, será necesario el uso de técnicas más avanzadas que vermos más adelante."
      ],
      "metadata": {
        "trusted": true,
        "id": "k8AH1VxGd3rz"
      },
      "execution_count": null,
      "outputs": []
    },
    {
      "cell_type": "code",
      "source": [
        "#Ahora inténtelo ud mismo:\n",
        "#Suponga que tiene un dataset que contiene edades de usuarios y productos o servicios consumidos, trate de realizar una clasificación básica, donde pueda obtener las edades de los usuarios del producto A:\n"
      ],
      "metadata": {
        "trusted": true,
        "id": "XrZ7OBOOd3r0"
      },
      "execution_count": null,
      "outputs": []
    },
    {
      "cell_type": "code",
      "source": [
        "dataset={12:\"juguete azul\",20:\"camisa rayas\",40:\"reloj lujo\",60:\"viaje crucero\",10:\"juguete azul\",18:\"camisa rayas\",35:\"reloj lujo\",58:\"viaje crucero\",13:\"juguete azul\",27:\"camisa rayas\",46:\"reloj lujo\",65:\"viaje crucero\"}\n",
        "print(dataset)"
      ],
      "metadata": {
        "trusted": true,
        "id": "Jlsq0YVNd3r0",
        "outputId": "23c4341c-b34b-4798-8fb9-13758ffd5b5a"
      },
      "execution_count": null,
      "outputs": [
        {
          "name": "stdout",
          "text": "{12: 'juguete azul', 20: 'camisa rayas', 40: 'reloj lujo', 60: 'viaje crucero', 10: 'juguete azul', 18: 'camisa rayas', 35: 'reloj lujo', 58: 'viaje crucero', 13: 'juguete azul', 27: 'camisa rayas', 46: 'reloj lujo', 65: 'viaje crucero'}\n",
          "output_type": "stream"
        }
      ]
    },
    {
      "cell_type": "code",
      "source": [
        "#Trate de identificar, como lo hicimos anteriormente, las edades correspondientes a:\n",
        "#'juguete azul'\n",
        "#'camisa rayas'\n",
        "#'reloj lujo'\n",
        "#'viaje crucero'\n",
        "\n",
        "#Edad juguete azul: 12\n",
        "#Edad juguete azul: 10\n",
        "#Edad juguete azul: 13\n",
        "\n",
        "#Edad camisa rayas: 20\n",
        "#Edad camisa rayas: 18\n",
        "#Edad camisa rayas: 27\n",
        "\n",
        "#Edad reloj lujo: 40\n",
        "#Edad reloj lujo: 35\n",
        "#Edad reloj lujo: 46\n",
        "\n",
        "#Edad viaje crucero: 60\n",
        "#Edad viaje crucero: 58\n",
        "#Edad viaje crucero: 65\n",
        "\n",
        "\n"
      ],
      "metadata": {
        "trusted": true,
        "id": "Chi4CUtEd3r1",
        "outputId": "c5483039-06bc-409a-b76b-6c21349e69e8"
      },
      "execution_count": null,
      "outputs": [
        {
          "name": "stdout",
          "text": "Edad viaje crucero: 60\nEdad viaje crucero: 58\nEdad viaje crucero: 65\n",
          "output_type": "stream"
        }
      ]
    },
    {
      "cell_type": "code",
      "source": [
        "dataset={12:\"juguete azul\",20:\"camisa rayas\",40:\"reloj lujo\",60:\"viaje crucero\",10:\"juguete azul\",18:\"camisa rayas\",35:\"reloj lujo\",58:\"viaje crucero\",13:\"juguete azul\",27:\"camisa rayas\",46:\"reloj lujo\",65:\"viaje crucero\"}\n",
        "print(dataset)\n",
        "\n",
        "for x in dataset:\n",
        "   if dataset[x].count(\"viaje crucero\")==True: \n",
        "        print(\"Edad viaje crucero\", x)\n"
      ],
      "metadata": {
        "id": "N6ahE1fLd3r2",
        "outputId": "fd3d936e-f28d-4c06-c0bb-85185834e4e8",
        "colab": {
          "base_uri": "https://localhost:8080/"
        }
      },
      "execution_count": 14,
      "outputs": [
        {
          "output_type": "stream",
          "name": "stdout",
          "text": [
            "{12: 'juguete azul', 20: 'camisa rayas', 40: 'reloj lujo', 60: 'viaje crucero', 10: 'juguete azul', 18: 'camisa rayas', 35: 'reloj lujo', 58: 'viaje crucero', 13: 'juguete azul', 27: 'camisa rayas', 46: 'reloj lujo', 65: 'viaje crucero'}\n",
            "Edad viaje crucero 60\n",
            "Edad viaje crucero 58\n",
            "Edad viaje crucero 65\n"
          ]
        }
      ]
    }
  ]
}