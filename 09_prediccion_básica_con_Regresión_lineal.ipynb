{
  "metadata": {
    "language_info": {
      "codemirror_mode": {
        "name": "python",
        "version": 3
      },
      "file_extension": ".py",
      "mimetype": "text/x-python",
      "name": "python",
      "nbconvert_exporter": "python",
      "pygments_lexer": "ipython3",
      "version": "3.8"
    },
    "kernelspec": {
      "name": "python",
      "display_name": "Pyolite",
      "language": "python"
    },
    "colab": {
      "provenance": [],
      "include_colab_link": true
    }
  },
  "nbformat_minor": 0,
  "nbformat": 4,
  "cells": [
    {
      "cell_type": "markdown",
      "metadata": {
        "id": "view-in-github",
        "colab_type": "text"
      },
      "source": [
        "<a href=\"https://colab.research.google.com/github/Leguty/bibliotecaG23/blob/main/09_prediccion_b%C3%A1sica_con_Regresi%C3%B3n_lineal.ipynb\" target=\"_parent\"><img src=\"https://colab.research.google.com/assets/colab-badge.svg\" alt=\"Open In Colab\"/></a>"
      ]
    },
    {
      "cell_type": "code",
      "source": [
        "#Ya vamos teniendo idea de la regresión lineal, así que retomando lo que ya habíamos hecho:\n",
        "\n",
        "\n",
        "import numpy as np #Librería numérica\n",
        "import matplotlib.pyplot as plt # Para crear gráficos\n",
        "#%matplotlib inline # gráficos dentro de un notebook\n",
        "from sklearn.linear_model import LinearRegression #Regresión Lineal con scikit-learn una librería especializada\n",
        "\n",
        "def f(x):  # función f(x) = 0.12*x + 1.25 + 0.2*Ruido_Gaussiano\n",
        "    np.random.seed(42)\n",
        "    y = 0.12*x + 1.25 + 0.2*np.random.randn(x.shape[0])\n",
        "    return y\n",
        "\n",
        "x = np.arange(0, 20, 0.4)\n",
        "y = f(x)\n",
        "plt.scatter(x=x,y=y,label='data', color='blue')\n",
        "plt.title('Datos');\n",
        "plt.show()\n",
        "\n"
      ],
      "metadata": {
        "trusted": true,
        "id": "YtBgGdo4geGQ",
        "outputId": "b03f5988-3813-4fe8-ce6d-4b27a36e132a"
      },
      "execution_count": null,
      "outputs": [
        {
          "output_type": "display_data",
          "data": {
            "text/plain": "<pyolite.display.Image at 0xbef070>",
            "image/png": "[encoded data removed]"
          },
          "metadata": {}
        }
      ]
    },
    {
      "cell_type": "code",
      "source": [
        "#Pasamos a conocer como se entrena de forma simple un modelo de regresión lineal:\n",
        "\n",
        "#Para entrenar el modelo, hacemos uso de scikit-learn. \n",
        "#El método fit se encarga de ajustar los parámetros de regresión lineal a los datos:"
      ],
      "metadata": {
        "trusted": true,
        "id": "FTAi0JVvgeGS"
      },
      "execution_count": null,
      "outputs": []
    },
    {
      "cell_type": "code",
      "source": [
        "# Importamos la clase de Regresión Lineal de scikit-learn\n",
        "from sklearn.linear_model import LinearRegression\n",
        "\n",
        "# creamos una instancia de LinearRegression\n",
        "regresion_lineal = LinearRegression() \n",
        "\n",
        "# direccionamos a la regresión lineal para que aprenda de los datos (x,y)\n",
        "regresion_lineal.fit(x.reshape(-1,1), y)\n",
        "\n",
        "# mostramos los parámetros que ha estimado la regresión lineal\n",
        "print('w = ' + str(regresion_lineal.coef_) + ', b = ' + str(regresion_lineal.intercept_))\n"
      ],
      "metadata": {
        "trusted": true,
        "id": "8fS3P86CgeGT",
        "outputId": "0f31383c-6af3-449f-ebc7-a3e205a589f9"
      },
      "execution_count": null,
      "outputs": [
        {
          "name": "stdout",
          "text": "w = [0.11408333], b = 1.2628886184405945\n",
          "output_type": "stream"
        }
      ]
    },
    {
      "cell_type": "code",
      "source": [
        "#Teniendo en cuenta que el modelo es Y = wX+b, tenemos valores muy aproximados a los dados para obtener los valores aleatorios función f(x) = 0.12*x + 1.25 + 0.2*Ruido_Gaussiano\n",
        "# En pocas palabras, realizamos un intento para devolvernos desde los valores hasta la función"
      ],
      "metadata": {
        "trusted": true,
        "id": "dmwGcfFhgeGT"
      },
      "execution_count": null,
      "outputs": []
    },
    {
      "cell_type": "code",
      "source": [
        "# Ahora intentemos realizar una predicción con esta información:\n",
        "#Con el modelo de regresión lineal entrenado, podemos hacer predicciones usando el método predict de la clase LinearRegression. \n",
        "#Por ejemplo, si quisiéramos saber qué valor de y corresponde para x, lo hacemos así:"
      ],
      "metadata": {
        "trusted": true,
        "id": "5k5ozNGNgeGT"
      },
      "execution_count": null,
      "outputs": []
    },
    {
      "cell_type": "code",
      "source": [
        "# Usando un x = 3\n",
        "nuevo_x = np.array([3]) \n",
        "prediccion = regresion_lineal.predict(nuevo_x.reshape(-1,1))\n",
        "print(prediccion)"
      ],
      "metadata": {
        "trusted": true,
        "id": "HETs4OaogeGU",
        "outputId": "0208a609-d844-4a06-e0c0-93849ace7522"
      },
      "execution_count": null,
      "outputs": [
        {
          "name": "stdout",
          "text": "[1.6051386]\n",
          "output_type": "stream"
        }
      ]
    },
    {
      "cell_type": "code",
      "source": [
        "#El valor obtenido es la estimación de Y con el valor X propuesto.\n",
        "# Imagine que sus datos son obtenidos de del consumo de un producto o servicio, en teoría y apudiera realizar una predicción de lo que se puede consumir un cliente con determinadas características."
      ],
      "metadata": {
        "trusted": true,
        "id": "3knoPJh_geGU"
      },
      "execution_count": null,
      "outputs": []
    },
    {
      "cell_type": "code",
      "source": [
        "# Ahora inténtelo usted mismo.\n",
        "# Realice el mismo procedimiento con la función propuesta anteriormente f(x) = 0.2*x + 1.3 + 0.15*Ruido_Gaussiano\n",
        "# Adelante."
      ],
      "metadata": {
        "trusted": true,
        "id": "XpqCmMLrgeGU"
      },
      "execution_count": null,
      "outputs": []
    },
    {
      "cell_type": "code",
      "source": [
        "\n",
        "import numpy as np #Librería numérica\n",
        "import matplotlib.pyplot as plt # Para crear gráficos\n",
        "#%matplotlib inline # gráficos dentro de un notebook\n",
        "from sklearn.linear_model import LinearRegression #Regresión Lineal con scikit-learn una librería especializada\n",
        "\n",
        "def f(x):  # función f(x) = 0.2*x + 1.3 + 0.15*Ruido_Gaussiano\n",
        "    np.random.seed(42)\n",
        "    y = 0.2*x + 1.3 + 0.15*np.random.randn(x.shape[0])\n",
        "    return y\n",
        "\n",
        "x = np.arange(0, 20, 0.4)\n",
        "y = f(x)\n",
        "plt.scatter(x=x,y=y,label='data', color='blue')\n",
        "plt.title('Datos');\n",
        "plt.show()\n",
        "\n",
        "from sklearn.linear_model import LinearRegression\n",
        "\n",
        "# creamos una instancia de LinearRegression\n",
        "regresion_lineal = LinearRegression() \n",
        "\n",
        "# direccionamos a la regresión lineal para que aprenda de los datos (x,y)\n",
        "regresion_lineal.fit(x.reshape(-1,1), y)\n",
        "\n",
        "# mostramos los parámetros que ha estimado la regresión lineal\n",
        "print('w = ' + str(regresion_lineal.coef_) + ', b = ' + str(regresion_lineal.intercept_))\n",
        "\n",
        "# Usando un x = 3\n",
        "nuevo_x = np.array([3]) \n",
        "prediccion = regresion_lineal.predict(nuevo_x.reshape(-1,1))\n",
        "print(prediccion)"
      ],
      "metadata": {
        "id": "JBuibJSNgeGU",
        "outputId": "c65f7496-f011-4784-9c72-be7b320b02d3",
        "colab": {
          "base_uri": "https://localhost:8080/",
          "height": 487
        }
      },
      "execution_count": 2,
      "outputs": [
        {
          "output_type": "display_data",
          "data": {
            "text/plain": [
              "<Figure size 640x480 with 1 Axes>"
            ],
            "image/png": "[encoded data removed]"
          },
          "metadata": {}
        },
        {
          "output_type": "stream",
          "name": "stdout",
          "text": [
            "w = [0.19556249], b = 1.309666463830446\n",
            "[1.89635395]\n"
          ]
        }
      ]
    }
  ]
}