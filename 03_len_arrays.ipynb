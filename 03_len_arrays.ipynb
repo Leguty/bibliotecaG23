{
  "metadata": {
    "language_info": {
      "name": ""
    },
    "kernelspec": {
      "name": "",
      "display_name": ""
    },
    "colab": {
      "provenance": [],
      "include_colab_link": true
    }
  },
  "nbformat_minor": 0,
  "nbformat": 4,
  "cells": [
    {
      "cell_type": "markdown",
      "metadata": {
        "id": "view-in-github",
        "colab_type": "text"
      },
      "source": [
        "<a href=\"https://colab.research.google.com/github/Leguty/bibliotecaG23/blob/main/03_len_arrays.ipynb\" target=\"_parent\"><img src=\"https://colab.research.google.com/assets/colab-badge.svg\" alt=\"Open In Colab\"/></a>"
      ]
    },
    {
      "cell_type": "code",
      "source": [
        "# Hagamos algunos calculos con arreglos que serán de gran utulidad para entender y usar el modelado"
      ],
      "metadata": {
        "trusted": true,
        "id": "-iPrvo1VeBEG"
      },
      "execution_count": null,
      "outputs": []
    },
    {
      "cell_type": "code",
      "source": [
        "#Declaremos dos variables del tipo texto"
      ],
      "metadata": {
        "trusted": true,
        "id": "iYirn7nreBEN"
      },
      "execution_count": null,
      "outputs": []
    },
    {
      "cell_type": "code",
      "source": [
        "primero = \"papas\"\n",
        "segundo = \"fritas\""
      ],
      "metadata": {
        "trusted": true,
        "id": "7rtXNSqyeBEO"
      },
      "execution_count": null,
      "outputs": []
    },
    {
      "cell_type": "code",
      "source": [
        "#Ahora pidamos el tamaño de las variables con el método 'len'"
      ],
      "metadata": {
        "trusted": true,
        "id": "p6ERI85reBEO"
      },
      "execution_count": null,
      "outputs": []
    },
    {
      "cell_type": "code",
      "source": [
        "print(len(primero))\n",
        "print(len(segundo))"
      ],
      "metadata": {
        "trusted": true,
        "id": "LRwJgLqweBEP",
        "outputId": "b3f8877c-5f4a-428e-d499-149f15ef4eda"
      },
      "execution_count": null,
      "outputs": [
        {
          "name": "stdout",
          "text": "5\n6\n",
          "output_type": "stream"
        }
      ]
    },
    {
      "cell_type": "code",
      "source": [
        "# podemos sumar ambas variables y obtener un total así:\n",
        "print(len(primero)+len(segundo))"
      ],
      "metadata": {
        "trusted": true,
        "id": "ye-osR0DeBEQ",
        "outputId": "afc46649-f485-40cf-d177-4a7816c08d55"
      },
      "execution_count": null,
      "outputs": [
        {
          "name": "stdout",
          "text": "11\n",
          "output_type": "stream"
        }
      ]
    },
    {
      "cell_type": "code",
      "source": [
        "#Ahora inténtelo ud mismo:\n",
        "#Suponga que tiene dos variables 'Soy el mas', 'grande' y quiere obtener el tamaño (longitud) de estas dos variables juntas.\n",
        "#Debe obtener el siguiente valor:\n",
        "# 16"
      ],
      "metadata": {
        "trusted": true,
        "id": "eNrcVYC3eBER",
        "outputId": "e6a7bd0c-5da7-4400-a235-64cd04b754bf"
      },
      "execution_count": null,
      "outputs": [
        {
          "name": "stdout",
          "text": "16\n",
          "output_type": "stream"
        }
      ]
    },
    {
      "cell_type": "code",
      "source": [
        "one = \"Soy el mas\"\n",
        "two = \"grande\"\n",
        "\n",
        "\n",
        "print(len(one)+len(two))"
      ],
      "metadata": {
        "id": "5LN9d6XCeBER",
        "outputId": "c1c17ef4-784c-433a-eab5-d2651d650172",
        "colab": {
          "base_uri": "https://localhost:8080/"
        }
      },
      "execution_count": 1,
      "outputs": [
        {
          "output_type": "stream",
          "name": "stdout",
          "text": [
            "16\n"
          ]
        }
      ]
    }
  ]
}