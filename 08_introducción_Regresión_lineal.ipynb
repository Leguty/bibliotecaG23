{
  "metadata": {
    "language_info": {
      "codemirror_mode": {
        "name": "python",
        "version": 3
      },
      "file_extension": ".py",
      "mimetype": "text/x-python",
      "name": "python",
      "nbconvert_exporter": "python",
      "pygments_lexer": "ipython3",
      "version": "3.8"
    },
    "kernelspec": {
      "name": "python",
      "display_name": "Pyolite",
      "language": "python"
    },
    "colab": {
      "provenance": [],
      "include_colab_link": true
    }
  },
  "nbformat_minor": 0,
  "nbformat": 4,
  "cells": [
    {
      "cell_type": "markdown",
      "metadata": {
        "id": "view-in-github",
        "colab_type": "text"
      },
      "source": [
        "<a href=\"https://colab.research.google.com/github/Leguty/bibliotecaG23/blob/main/08_introducci%C3%B3n_Regresi%C3%B3n_lineal.ipynb\" target=\"_parent\"><img src=\"https://colab.research.google.com/assets/colab-badge.svg\" alt=\"Open In Colab\"/></a>"
      ]
    },
    {
      "cell_type": "code",
      "source": [
        "#REGRESION LINEAL"
      ],
      "metadata": {
        "trusted": true,
        "id": "UyoxfEVifG8H"
      },
      "execution_count": null,
      "outputs": []
    },
    {
      "cell_type": "code",
      "source": [
        "# Hasta ahora hemos visto como clasificar con varios ejemplos, ya que la clasificación suele ser un tema intuitivo por ser una de las d¡formas de decisión mas usadas por nosotros en casi cualquier ámbito."
      ],
      "metadata": {
        "trusted": true,
        "id": "IOeuehuPfG8J"
      },
      "execution_count": null,
      "outputs": []
    },
    {
      "cell_type": "code",
      "source": [
        "#Sin embargo en analítica hay métodos importantes como la regresión Lineal. \n",
        "# La regresión lineal es una de las técnicas más usadas en Machine Learning. Su fortaleza estriba en su simplicidad e interpretabilidad.\n",
        "# Básicamente es una técnica que permite predecir mediante la observación del pasado, para ello vamos directamente a algunas técnicas usadas en python:\n"
      ],
      "metadata": {
        "trusted": true,
        "id": "0zKA88iUfG8J"
      },
      "execution_count": null,
      "outputs": []
    },
    {
      "cell_type": "code",
      "source": [
        "# Importamos librerias necesarias:"
      ],
      "metadata": {
        "trusted": true,
        "id": "FOGY7YqYfG8J"
      },
      "execution_count": null,
      "outputs": []
    },
    {
      "cell_type": "code",
      "source": [
        "import numpy as np #Librería numérica\n",
        "import matplotlib.pyplot as plt # Para crear gráficos\n",
        "#%matplotlib inline # gráficos dentro de un notebook\n",
        "from sklearn.linear_model import LinearRegression #Regresión Lineal con scikit-learn una librería especializada"
      ],
      "metadata": {
        "trusted": true,
        "id": "N6aGrN4NfG8K"
      },
      "execution_count": null,
      "outputs": []
    },
    {
      "cell_type": "code",
      "source": [
        "#Creamos una función para generar unos datos de forma aleatoria:"
      ],
      "metadata": {
        "trusted": true,
        "id": "_jrh5jCMfG8K"
      },
      "execution_count": null,
      "outputs": []
    },
    {
      "cell_type": "code",
      "source": [
        "def f(x):  # función f(x) = 0.12*x + 1.25 + 0.2*Ruido_Gaussiano\n",
        "    np.random.seed(42)\n",
        "    y = 0.12*x + 1.25 + 0.2*np.random.randn(x.shape[0])\n",
        "    return y"
      ],
      "metadata": {
        "trusted": true,
        "id": "fE1m4iozfG8K"
      },
      "execution_count": null,
      "outputs": []
    },
    {
      "cell_type": "code",
      "source": [
        "# generamos valores x de 0 a 20 en intervalos de 0.4:"
      ],
      "metadata": {
        "trusted": true,
        "id": "VKnC08rMfG8K"
      },
      "execution_count": null,
      "outputs": []
    },
    {
      "cell_type": "code",
      "source": [
        "x = np.arange(0, 20, 0.4)"
      ],
      "metadata": {
        "trusted": true,
        "id": "3eYTdO22fG8L"
      },
      "execution_count": null,
      "outputs": []
    },
    {
      "cell_type": "code",
      "source": [
        "# calculamos ejecutando la función que hemos generado antes:"
      ],
      "metadata": {
        "trusted": true,
        "id": "vfqsw930fG8L"
      },
      "execution_count": null,
      "outputs": []
    },
    {
      "cell_type": "code",
      "source": [
        "y = f(x)"
      ],
      "metadata": {
        "trusted": true,
        "id": "wRyIzAjXfG8L"
      },
      "execution_count": null,
      "outputs": []
    },
    {
      "cell_type": "code",
      "source": [
        "#Gráfico de los datos que hemos generado:\n",
        "plt.scatter(x=x,y=y,label='data', color='blue')\n",
        "plt.title('Datos');\n",
        "plt.show()\n"
      ],
      "metadata": {
        "trusted": true,
        "id": "opgP4d2_fG8L",
        "outputId": "92aed000-59f8-47e9-8bd3-28c39e223902"
      },
      "execution_count": null,
      "outputs": [
        {
          "output_type": "display_data",
          "data": {
            "text/plain": "<pyolite.display.Image at 0x47e5930>",
            "image/png": "[encoded data removed]"
          },
          "metadata": {}
        }
      ]
    },
    {
      "cell_type": "code",
      "source": [
        "# se pudiera decir del gráfico obtenido, que hay una tendencia lineal y que si encontramos un patrón, podemos predecir futuros valores."
      ],
      "metadata": {
        "trusted": true,
        "id": "gv1J43HxfG8M"
      },
      "execution_count": null,
      "outputs": []
    },
    {
      "cell_type": "code",
      "source": [
        "# ahora inténtelo ustede mismo, de forma tal que pueda generar una función con las siguientes características:\n",
        "#función f(x) = 0.2*x + 1.3 + 0.15*Ruido_Gaussiano\n",
        "\n",
        "def f(x):  \n",
        "    np.random.seed(42)\n",
        "    y = 0.2*x + 1.3 + 0.15*np.random.randn(x.shape[0])\n",
        "    return y\n",
        "\n",
        "    x = np.arange(0, 20, 0.4)\n",
        "    y = f(x)\n",
        "\n",
        "    #Gráfico de los datos que hemos generado:\n",
        "    plt.scatter(x=x,y=y,label='data', color='red')\n",
        "    plt.title('Datos');\n",
        "    plt.show()"
      ],
      "metadata": {
        "id": "zC2J9lGqfG8M"
      },
      "execution_count": 2,
      "outputs": []
    }
  ]
}